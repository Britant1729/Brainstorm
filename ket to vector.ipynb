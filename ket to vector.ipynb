{
 "cells": [
  {
   "cell_type": "code",
   "execution_count": 13,
   "id": "40db4e78",
   "metadata": {},
   "outputs": [
    {
     "name": "stdout",
     "output_type": "stream",
     "text": [
      "Enter the binary:00\n",
      "State vector representation: [1.+0.j 0.+0.j 0.+0.j 0.+0.j]\n"
     ]
    }
   ],
   "source": [
    "import numpy as np\n",
    "from qiskit.visualization import array_to_latex\n",
    "def ket_to_statevector_tensor(ket_string):\n",
    "    # Remove \"Ket(\" and \")\" from the input string to get the binary state\n",
    "    ket = ket_string.strip(\"Ket()\")\n",
    "\n",
    "    # Define single-qubit states |0> and |1> as vectors\n",
    "    ket0 = np.array([1, 0], dtype=complex)\n",
    "    ket1 = np.array([0, 1], dtype=complex)\n",
    "\n",
    "    # Initialize the full state as |1> or |0> depending on each bit in the ket string\n",
    "    statevector = ket0 if ket[0] == '0' else ket1\n",
    "    \n",
    "    # Apply the tensor product for each subsequent qubit in the ket string\n",
    "    for bit in ket[1:]:\n",
    "        if bit == '0':\n",
    "            statevector = np.kron(statevector, ket0)\n",
    "        else:\n",
    "            statevector = np.kron(statevector, ket1)\n",
    "\n",
    "    return statevector\n",
    "\n",
    "# Example usage\n",
    "ket_string = input(\"Enter the binary:\")#\"Ket(00100)\"\n",
    "statevector = ket_to_statevector_tensor(ket_string)\n",
    "print(\"State vector representation:\", statevector)\n"
   ]
  },
  {
   "cell_type": "code",
   "execution_count": 14,
   "id": "cd17a0dc",
   "metadata": {},
   "outputs": [
    {
     "data": {
      "text/latex": [
       "$$\n",
       "\n",
       "\\begin{bmatrix}\n",
       "1 & 0 & 0 & 0  \\\\\n",
       " \\end{bmatrix}\n",
       "$$"
      ],
      "text/plain": [
       "<IPython.core.display.Latex object>"
      ]
     },
     "execution_count": 14,
     "metadata": {},
     "output_type": "execute_result"
    }
   ],
   "source": [
    "array_to_latex(statevector,max_size=len(statevector))"
   ]
  },
  {
   "cell_type": "code",
   "execution_count": null,
   "id": "7d3bed2e",
   "metadata": {},
   "outputs": [],
   "source": []
  }
 ],
 "metadata": {
  "kernelspec": {
   "display_name": "Python 3 (ipykernel)",
   "language": "python",
   "name": "python3"
  },
  "language_info": {
   "codemirror_mode": {
    "name": "ipython",
    "version": 3
   },
   "file_extension": ".py",
   "mimetype": "text/x-python",
   "name": "python",
   "nbconvert_exporter": "python",
   "pygments_lexer": "ipython3",
   "version": "3.11.5"
  }
 },
 "nbformat": 4,
 "nbformat_minor": 5
}
